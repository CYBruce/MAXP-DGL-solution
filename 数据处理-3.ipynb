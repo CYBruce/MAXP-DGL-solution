{
 "cells": [
  {
   "cell_type": "markdown",
   "metadata": {},
   "source": [
    "使用步骤1里处理好的节点的ID，来构建DGL的graph所需要的边列表。"
   ]
  },
  {
   "cell_type": "code",
   "execution_count": 1,
   "metadata": {},
   "outputs": [
    {
     "name": "stderr",
     "output_type": "stream",
     "text": [
      "Using backend: pytorch\n"
     ]
    }
   ],
   "source": [
    "import pandas as pd\n",
    "import numpy as np\n",
    "import os\n",
    "\n",
    "import dgl"
   ]
  },
  {
   "cell_type": "code",
   "execution_count": 2,
   "metadata": {},
   "outputs": [],
   "source": [
    "# path\n",
    "base_path = './final_data'\n",
    "publish_path = ''\n",
    "\n",
    "link_p1_path = os.path.join(base_path, publish_path, 'link_phase1.csv')\n",
    "link_p2_path = os.path.join(base_path, publish_path, 'link_phase2.csv')\n",
    "nodes_path = os.path.join(base_path, publish_path, 'IDandLabels.csv')"
   ]
  },
  {
   "cell_type": "markdown",
   "metadata": {},
   "source": [
    "### 读取节点列表"
   ]
  },
  {
   "cell_type": "code",
   "execution_count": 3,
   "metadata": {},
   "outputs": [
    {
     "name": "stdout",
     "output_type": "stream",
     "text": [
      "(5346177, 4)\n"
     ]
    },
    {
     "data": {
      "text/html": [
       "<div>\n",
       "<style scoped>\n",
       "    .dataframe tbody tr th:only-of-type {\n",
       "        vertical-align: middle;\n",
       "    }\n",
       "\n",
       "    .dataframe tbody tr th {\n",
       "        vertical-align: top;\n",
       "    }\n",
       "\n",
       "    .dataframe thead th {\n",
       "        text-align: right;\n",
       "    }\n",
       "</style>\n",
       "<table border=\"1\" class=\"dataframe\">\n",
       "  <thead>\n",
       "    <tr style=\"text-align: right;\">\n",
       "      <th></th>\n",
       "      <th>node_idx</th>\n",
       "      <th>paper_id</th>\n",
       "      <th>Label</th>\n",
       "      <th>Split_ID</th>\n",
       "    </tr>\n",
       "  </thead>\n",
       "  <tbody>\n",
       "    <tr>\n",
       "      <th>5346173</th>\n",
       "      <td>5346173</td>\n",
       "      <td>1b8ab3d079dca59f31b846fd79e5ebb5</td>\n",
       "      <td>NaN</td>\n",
       "      <td>1</td>\n",
       "    </tr>\n",
       "    <tr>\n",
       "      <th>5346174</th>\n",
       "      <td>5346174</td>\n",
       "      <td>38684c9ad0cbb959bbfd66c12938b227</td>\n",
       "      <td>NaN</td>\n",
       "      <td>1</td>\n",
       "    </tr>\n",
       "    <tr>\n",
       "      <th>5346175</th>\n",
       "      <td>5346175</td>\n",
       "      <td>613fbc81d975a8d604ad71c48036b02e</td>\n",
       "      <td>NaN</td>\n",
       "      <td>1</td>\n",
       "    </tr>\n",
       "    <tr>\n",
       "      <th>5346176</th>\n",
       "      <td>5346176</td>\n",
       "      <td>f58fbe42664299820e3b3b50b9a5983f</td>\n",
       "      <td>NaN</td>\n",
       "      <td>1</td>\n",
       "    </tr>\n",
       "  </tbody>\n",
       "</table>\n",
       "</div>"
      ],
      "text/plain": [
       "         node_idx                          paper_id Label  Split_ID\n",
       "5346173   5346173  1b8ab3d079dca59f31b846fd79e5ebb5   NaN         1\n",
       "5346174   5346174  38684c9ad0cbb959bbfd66c12938b227   NaN         1\n",
       "5346175   5346175  613fbc81d975a8d604ad71c48036b02e   NaN         1\n",
       "5346176   5346176  f58fbe42664299820e3b3b50b9a5983f   NaN         1"
      ]
     },
     "execution_count": 3,
     "metadata": {},
     "output_type": "execute_result"
    }
   ],
   "source": [
    "nodes_df = pd.read_csv(nodes_path, dtype={'Label':str})\n",
    "print(nodes_df.shape)\n",
    "nodes_df.tail(4)"
   ]
  },
  {
   "cell_type": "markdown",
   "metadata": {},
   "source": [
    "### 读取边列表"
   ]
  },
  {
   "cell_type": "code",
   "execution_count": 4,
   "metadata": {},
   "outputs": [
    {
     "name": "stdout",
     "output_type": "stream",
     "text": [
      "(48159841, 3)\n"
     ]
    },
    {
     "data": {
      "text/html": [
       "<div>\n",
       "<style scoped>\n",
       "    .dataframe tbody tr th:only-of-type {\n",
       "        vertical-align: middle;\n",
       "    }\n",
       "\n",
       "    .dataframe tbody tr th {\n",
       "        vertical-align: top;\n",
       "    }\n",
       "\n",
       "    .dataframe thead th {\n",
       "        text-align: right;\n",
       "    }\n",
       "</style>\n",
       "<table border=\"1\" class=\"dataframe\">\n",
       "  <thead>\n",
       "    <tr style=\"text-align: right;\">\n",
       "      <th></th>\n",
       "      <th>paper_id</th>\n",
       "      <th>reference_paper_id</th>\n",
       "      <th>phase</th>\n",
       "    </tr>\n",
       "  </thead>\n",
       "  <tbody>\n",
       "    <tr>\n",
       "      <th>0</th>\n",
       "      <td>65679d473736e72a8f12984d4c42e955</td>\n",
       "      <td>05f085e5ba961ce715912b6cb4836e96</td>\n",
       "      <td>phase2</td>\n",
       "    </tr>\n",
       "    <tr>\n",
       "      <th>1</th>\n",
       "      <td>c90b0164d72bd4f00b4c5efb7c216dc5</td>\n",
       "      <td>33c1a5ee63412996aed098f0a8f01c53</td>\n",
       "      <td>phase2</td>\n",
       "    </tr>\n",
       "    <tr>\n",
       "      <th>2</th>\n",
       "      <td>d5945e460d2d63118c6b601c7330e649</td>\n",
       "      <td>50603e852362bde38fa27ea2c9b7039b</td>\n",
       "      <td>phase2</td>\n",
       "    </tr>\n",
       "    <tr>\n",
       "      <th>3</th>\n",
       "      <td>f10da75ad1eaf16eb2ffe0d85b76b332</td>\n",
       "      <td>711ef25bdb2c2421c0131af77b3ede1d</td>\n",
       "      <td>phase1</td>\n",
       "    </tr>\n",
       "    <tr>\n",
       "      <th>4</th>\n",
       "      <td>9ac5a4327bd4f3dcb424c93ca9b84087</td>\n",
       "      <td>2d91c73304c5e8a94a0e5b4956093f71</td>\n",
       "      <td>phase1</td>\n",
       "    </tr>\n",
       "  </tbody>\n",
       "</table>\n",
       "</div>"
      ],
      "text/plain": [
       "                           paper_id                reference_paper_id   phase\n",
       "0  65679d473736e72a8f12984d4c42e955  05f085e5ba961ce715912b6cb4836e96  phase2\n",
       "1  c90b0164d72bd4f00b4c5efb7c216dc5  33c1a5ee63412996aed098f0a8f01c53  phase2\n",
       "2  d5945e460d2d63118c6b601c7330e649  50603e852362bde38fa27ea2c9b7039b  phase2\n",
       "3  f10da75ad1eaf16eb2ffe0d85b76b332  711ef25bdb2c2421c0131af77b3ede1d  phase1\n",
       "4  9ac5a4327bd4f3dcb424c93ca9b84087  2d91c73304c5e8a94a0e5b4956093f71  phase1"
      ]
     },
     "execution_count": 4,
     "metadata": {},
     "output_type": "execute_result"
    }
   ],
   "source": [
    "# edge_df1 = pd.read_csv(link_p1_path)\n",
    "# edge_df2 = pd.read_csv(link_p2_path)\n",
    "edges_df = pd.read_csv(link_p2_path)\n",
    "print(edges_df.shape)\n",
    "edges_df.head()"
   ]
  },
  {
   "cell_type": "markdown",
   "metadata": {},
   "source": [
    "## Join点列表和边列表以生成从0开始的边列表\n",
    "\n",
    "DGL默认节点是从0开始，并以最大的ID为容量构建Graph，因此这里我们先构建从0开始的边列表。"
   ]
  },
  {
   "cell_type": "code",
   "execution_count": 5,
   "metadata": {},
   "outputs": [
    {
     "name": "stdout",
     "output_type": "stream",
     "text": [
      "(48159841, 10)\n"
     ]
    },
    {
     "data": {
      "text/html": [
       "<div>\n",
       "<style scoped>\n",
       "    .dataframe tbody tr th:only-of-type {\n",
       "        vertical-align: middle;\n",
       "    }\n",
       "\n",
       "    .dataframe tbody tr th {\n",
       "        vertical-align: top;\n",
       "    }\n",
       "\n",
       "    .dataframe thead th {\n",
       "        text-align: right;\n",
       "    }\n",
       "</style>\n",
       "<table border=\"1\" class=\"dataframe\">\n",
       "  <thead>\n",
       "    <tr style=\"text-align: right;\">\n",
       "      <th></th>\n",
       "      <th>paper_id_x</th>\n",
       "      <th>reference_paper_id</th>\n",
       "      <th>phase</th>\n",
       "      <th>node_idx_x</th>\n",
       "      <th>Label_x</th>\n",
       "      <th>Split_ID_x</th>\n",
       "      <th>node_idx_y</th>\n",
       "      <th>paper_id_y</th>\n",
       "      <th>Label_y</th>\n",
       "      <th>Split_ID_y</th>\n",
       "    </tr>\n",
       "  </thead>\n",
       "  <tbody>\n",
       "    <tr>\n",
       "      <th>0</th>\n",
       "      <td>65679d473736e72a8f12984d4c42e955</td>\n",
       "      <td>05f085e5ba961ce715912b6cb4836e96</td>\n",
       "      <td>phase2</td>\n",
       "      <td>3926192</td>\n",
       "      <td>NaN</td>\n",
       "      <td>1</td>\n",
       "      <td>985918</td>\n",
       "      <td>05f085e5ba961ce715912b6cb4836e96</td>\n",
       "      <td>NaN</td>\n",
       "      <td>0</td>\n",
       "    </tr>\n",
       "    <tr>\n",
       "      <th>1</th>\n",
       "      <td>c90b0164d72bd4f00b4c5efb7c216dc5</td>\n",
       "      <td>33c1a5ee63412996aed098f0a8f01c53</td>\n",
       "      <td>phase2</td>\n",
       "      <td>3790465</td>\n",
       "      <td>NaN</td>\n",
       "      <td>1</td>\n",
       "      <td>1188633</td>\n",
       "      <td>33c1a5ee63412996aed098f0a8f01c53</td>\n",
       "      <td>NaN</td>\n",
       "      <td>0</td>\n",
       "    </tr>\n",
       "    <tr>\n",
       "      <th>2</th>\n",
       "      <td>d5945e460d2d63118c6b601c7330e649</td>\n",
       "      <td>50603e852362bde38fa27ea2c9b7039b</td>\n",
       "      <td>phase2</td>\n",
       "      <td>4780332</td>\n",
       "      <td>NaN</td>\n",
       "      <td>1</td>\n",
       "      <td>3503589</td>\n",
       "      <td>50603e852362bde38fa27ea2c9b7039b</td>\n",
       "      <td>NaN</td>\n",
       "      <td>0</td>\n",
       "    </tr>\n",
       "    <tr>\n",
       "      <th>3</th>\n",
       "      <td>f10da75ad1eaf16eb2ffe0d85b76b332</td>\n",
       "      <td>711ef25bdb2c2421c0131af77b3ede1d</td>\n",
       "      <td>phase1</td>\n",
       "      <td>529879</td>\n",
       "      <td>NaN</td>\n",
       "      <td>0</td>\n",
       "      <td>2364950</td>\n",
       "      <td>711ef25bdb2c2421c0131af77b3ede1d</td>\n",
       "      <td>NaN</td>\n",
       "      <td>0</td>\n",
       "    </tr>\n",
       "  </tbody>\n",
       "</table>\n",
       "</div>"
      ],
      "text/plain": [
       "                         paper_id_x                reference_paper_id   phase  \\\n",
       "0  65679d473736e72a8f12984d4c42e955  05f085e5ba961ce715912b6cb4836e96  phase2   \n",
       "1  c90b0164d72bd4f00b4c5efb7c216dc5  33c1a5ee63412996aed098f0a8f01c53  phase2   \n",
       "2  d5945e460d2d63118c6b601c7330e649  50603e852362bde38fa27ea2c9b7039b  phase2   \n",
       "3  f10da75ad1eaf16eb2ffe0d85b76b332  711ef25bdb2c2421c0131af77b3ede1d  phase1   \n",
       "\n",
       "   node_idx_x Label_x  Split_ID_x  node_idx_y  \\\n",
       "0     3926192     NaN           1      985918   \n",
       "1     3790465     NaN           1     1188633   \n",
       "2     4780332     NaN           1     3503589   \n",
       "3      529879     NaN           0     2364950   \n",
       "\n",
       "                         paper_id_y Label_y  Split_ID_y  \n",
       "0  05f085e5ba961ce715912b6cb4836e96     NaN           0  \n",
       "1  33c1a5ee63412996aed098f0a8f01c53     NaN           0  \n",
       "2  50603e852362bde38fa27ea2c9b7039b     NaN           0  \n",
       "3  711ef25bdb2c2421c0131af77b3ede1d     NaN           0  "
      ]
     },
     "execution_count": 5,
     "metadata": {},
     "output_type": "execute_result"
    }
   ],
   "source": [
    "# Merge paper_id列\n",
    "edges = edges_df.merge(nodes_df, on='paper_id', how='left')\n",
    "# Merge reference_paper_id列\n",
    "edges = edges.merge(nodes_df, left_on='reference_paper_id', right_on='paper_id', how='left')\n",
    "print(edges.shape)\n",
    "edges.head(4)"
   ]
  },
  {
   "cell_type": "markdown",
   "metadata": {},
   "source": [
    "#### 修改node_idx_* 列的名称作为新的node id，并只保留需要的列"
   ]
  },
  {
   "cell_type": "code",
   "execution_count": 6,
   "metadata": {},
   "outputs": [
    {
     "data": {
      "text/html": [
       "<div>\n",
       "<style scoped>\n",
       "    .dataframe tbody tr th:only-of-type {\n",
       "        vertical-align: middle;\n",
       "    }\n",
       "\n",
       "    .dataframe tbody tr th {\n",
       "        vertical-align: top;\n",
       "    }\n",
       "\n",
       "    .dataframe thead th {\n",
       "        text-align: right;\n",
       "    }\n",
       "</style>\n",
       "<table border=\"1\" class=\"dataframe\">\n",
       "  <thead>\n",
       "    <tr style=\"text-align: right;\">\n",
       "      <th></th>\n",
       "      <th>src_nid</th>\n",
       "      <th>dst_nid</th>\n",
       "      <th>paper_id</th>\n",
       "      <th>reference_paper_id</th>\n",
       "    </tr>\n",
       "  </thead>\n",
       "  <tbody>\n",
       "    <tr>\n",
       "      <th>0</th>\n",
       "      <td>3926192</td>\n",
       "      <td>985918</td>\n",
       "      <td>65679d473736e72a8f12984d4c42e955</td>\n",
       "      <td>05f085e5ba961ce715912b6cb4836e96</td>\n",
       "    </tr>\n",
       "    <tr>\n",
       "      <th>1</th>\n",
       "      <td>3790465</td>\n",
       "      <td>1188633</td>\n",
       "      <td>c90b0164d72bd4f00b4c5efb7c216dc5</td>\n",
       "      <td>33c1a5ee63412996aed098f0a8f01c53</td>\n",
       "    </tr>\n",
       "    <tr>\n",
       "      <th>2</th>\n",
       "      <td>4780332</td>\n",
       "      <td>3503589</td>\n",
       "      <td>d5945e460d2d63118c6b601c7330e649</td>\n",
       "      <td>50603e852362bde38fa27ea2c9b7039b</td>\n",
       "    </tr>\n",
       "    <tr>\n",
       "      <th>3</th>\n",
       "      <td>529879</td>\n",
       "      <td>2364950</td>\n",
       "      <td>f10da75ad1eaf16eb2ffe0d85b76b332</td>\n",
       "      <td>711ef25bdb2c2421c0131af77b3ede1d</td>\n",
       "    </tr>\n",
       "  </tbody>\n",
       "</table>\n",
       "</div>"
      ],
      "text/plain": [
       "   src_nid  dst_nid                          paper_id  \\\n",
       "0  3926192   985918  65679d473736e72a8f12984d4c42e955   \n",
       "1  3790465  1188633  c90b0164d72bd4f00b4c5efb7c216dc5   \n",
       "2  4780332  3503589  d5945e460d2d63118c6b601c7330e649   \n",
       "3   529879  2364950  f10da75ad1eaf16eb2ffe0d85b76b332   \n",
       "\n",
       "                 reference_paper_id  \n",
       "0  05f085e5ba961ce715912b6cb4836e96  \n",
       "1  33c1a5ee63412996aed098f0a8f01c53  \n",
       "2  50603e852362bde38fa27ea2c9b7039b  \n",
       "3  711ef25bdb2c2421c0131af77b3ede1d  "
      ]
     },
     "execution_count": 6,
     "metadata": {},
     "output_type": "execute_result"
    }
   ],
   "source": [
    "edges.rename(columns={'paper_id_x': 'paper_id', 'node_idx_x':'src_nid', 'node_idx_y':'dst_nid'}, inplace=True)\n",
    "edges = edges[['src_nid', 'dst_nid', 'paper_id', 'reference_paper_id']]\n",
    "edges.head(4)"
   ]
  },
  {
   "cell_type": "markdown",
   "metadata": {},
   "source": [
    "## 构建DGL的Graph"
   ]
  },
  {
   "cell_type": "code",
   "execution_count": 7,
   "metadata": {},
   "outputs": [],
   "source": [
    "# 讲源节点和目标节点转换成Numpy的NDArray\n",
    "src_nid = edges.src_nid.to_numpy()\n",
    "dst_nid = edges.dst_nid.to_numpy()"
   ]
  },
  {
   "cell_type": "code",
   "execution_count": 8,
   "metadata": {},
   "outputs": [
    {
     "name": "stdout",
     "output_type": "stream",
     "text": [
      "Graph(num_nodes=5346177, num_edges=48159841,\n",
      "      ndata_schemes={}\n",
      "      edata_schemes={})\n"
     ]
    }
   ],
   "source": [
    "# 构建一个DGL的graph\n",
    "graph = dgl.graph((src_nid, dst_nid), num_nodes=5346177)\n",
    "print(graph)"
   ]
  },
  {
   "cell_type": "code",
   "execution_count": 9,
   "metadata": {},
   "outputs": [],
   "source": [
    "# 保存Graph为二进制格式方便后面建模时的快速读取\n",
    "graph_path = os.path.join(base_path, publish_path, 'graph.bin')\n",
    "dgl.data.utils.save_graphs(graph_path, [graph])\n",
    "\n"
   ]
  },
  {
   "cell_type": "code",
   "execution_count": 10,
   "metadata": {},
   "outputs": [],
   "source": [
    "# 构建异构图\n",
    "graph_data = {\n",
    "   ('id', 'cite', 'id'): (src_nid, dst_nid),\n",
    "    ('id', 'cite_by', 'id'): (dst_nid, src_nid),\n",
    "    ('id', 'self_loop', 'id'): (nodes_df.node_idx, nodes_df.node_idx),\n",
    "}\n",
    "g = dgl.heterograph(graph_data)\n",
    "graph_path = os.path.join(base_path, publish_path, 'heteo_graph.bin')\n",
    "dgl.data.utils.save_graphs(graph_path, [g])"
   ]
  },
  {
   "cell_type": "code",
   "execution_count": null,
   "metadata": {},
   "outputs": [],
   "source": []
  }
 ],
 "metadata": {
  "kernelspec": {
   "display_name": "Python 3",
   "language": "python",
   "name": "python3"
  },
  "language_info": {
   "codemirror_mode": {
    "name": "ipython",
    "version": 3
   },
   "file_extension": ".py",
   "mimetype": "text/x-python",
   "name": "python",
   "nbconvert_exporter": "python",
   "pygments_lexer": "ipython3",
   "version": "3.6.6"
  }
 },
 "nbformat": 4,
 "nbformat_minor": 2
}
