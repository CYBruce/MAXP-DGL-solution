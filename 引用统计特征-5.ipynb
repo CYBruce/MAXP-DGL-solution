{
 "cells": [
  {
   "cell_type": "code",
   "execution_count": 2,
   "id": "8c11acb3",
   "metadata": {},
   "outputs": [],
   "source": [
    "import pandas as pd\n",
    "import os\n",
    "import numpy as np"
   ]
  },
  {
   "cell_type": "code",
   "execution_count": 8,
   "id": "2369d725",
   "metadata": {},
   "outputs": [
    {
     "data": {
      "text/plain": [
       "array([2.89030365e-25, 1.22061887e-16, 1.89983599e-21, 1.74652069e-53,\n",
       "       7.64580047e-32, 7.36790967e-28, 1.99043489e-37, 1.47726716e-26,\n",
       "       7.58449633e-22, 1.36715798e-58, 6.11244319e-13, 4.09395731e-46,\n",
       "       2.60113807e-71, 0.00000000e+00, 8.22013121e-26, 1.00000000e+00,\n",
       "       2.13310268e-10, 7.13593409e-32, 1.30186146e-18, 1.28598067e-95,\n",
       "       7.60510386e-28, 2.44400280e-16, 3.94526625e-16])"
      ]
     },
     "execution_count": 8,
     "metadata": {},
     "output_type": "execute_result"
    }
   ],
   "source": [
    "nptest = np.load('data/clustering_features.npy')\n",
    "nptest[0]"
   ]
  },
  {
   "cell_type": "code",
   "execution_count": 13,
   "id": "5adc6f37",
   "metadata": {},
   "outputs": [
    {
     "data": {
      "text/plain": [
       "array([0., 0., 0., 0., 0., 0., 0., 0., 0., 0., 0., 0., 0., 0., 0., 0., 0.,\n",
       "       0., 0., 0., 0., 0., 0., 0., 0., 0., 0., 0., 0., 0., 0., 0., 0., 0.,\n",
       "       0., 0., 0., 0., 0., 0., 0., 0., 0., 0., 0., 0., 0., 0., 0., 0.])"
      ]
     },
     "execution_count": 13,
     "metadata": {},
     "output_type": "execute_result"
    }
   ],
   "source": [
    "nptest = np.load('data/node_info.npy')\n",
    "nptest[0]"
   ]
  },
  {
   "cell_type": "code",
   "execution_count": 15,
   "id": "35fb19a1",
   "metadata": {},
   "outputs": [
    {
     "data": {
      "text/plain": [
       "array([[ 0.,  0.,  0., ...,  0.,  0.,  0.],\n",
       "       [ 3.,  0.,  0., ...,  0.,  0.,  9.],\n",
       "       [ 8.,  0.,  1., ...,  0.,  0., 11.],\n",
       "       ...,\n",
       "       [27.,  0.,  0., ...,  0.,  0., 13.],\n",
       "       [ 0.,  0.,  0., ...,  0.,  0.,  0.],\n",
       "       [ 1.,  0.,  0., ...,  0.,  0.,  4.]])"
      ]
     },
     "execution_count": 15,
     "metadata": {},
     "output_type": "execute_result"
    }
   ],
   "source": [
    "nptest[:100]"
   ]
  },
  {
   "cell_type": "code",
   "execution_count": 11,
   "id": "48e018e2",
   "metadata": {},
   "outputs": [
    {
     "data": {
      "text/plain": [
       "array([0.        , 0.00408163, 0.01632653, 0.01428571, 0.0755102 ,\n",
       "       0.00816326, 0.00204082, 0.01020408, 0.00816326, 0.00204082,\n",
       "       0.00204082, 0.01428571, 0.14285715, 0.0122449 , 0.0122449 ,\n",
       "       0.00204082, 0.        , 0.00408163, 0.        , 0.00204082,\n",
       "       0.00204082, 0.0122449 , 0.        , 0.6530612 ], dtype=float32)"
      ]
     },
     "execution_count": 11,
     "metadata": {},
     "output_type": "execute_result"
    }
   ],
   "source": [
    "nptest = np.load('data/walk_label_features.npy')\n",
    "nptest[1]"
   ]
  },
  {
   "cell_type": "code",
   "execution_count": 1,
   "id": "407ca562",
   "metadata": {},
   "outputs": [],
   "source": [
    "base_path = './data'\n",
    "publish_path = ''\n",
    "\n",
    "link_p1_path = os.path.join(base_path, publish_path, 'link_phase1.csv')\n",
    "nodes_path = os.path.join(base_path, publish_path, 'IDandLabels.csv')\n",
    "edges_df = pd.read_csv(link_p1_path)\n",
    "nodes_df = pd.read_csv(nodes_path, dtype={'Label':str})\n"
   ]
  },
  {
   "cell_type": "code",
   "execution_count": 2,
   "id": "fb98fd01",
   "metadata": {},
   "outputs": [],
   "source": [
    "cite1_df = edges_df.groupby('paper_id').count()['reference_paper_id']\n",
    "cite2_df = edges_df.groupby('reference_paper_id').count()['paper_id']\n",
    "count_df = pd.merge(cite1_df, cite2_df, how='outer', left_index=True, right_index=True)\n",
    "count_df.fillna(0, inplace=True)\n",
    "count_df.columns=['cite1', 'cite2']\n",
    "# 对引用数做归一化\n",
    "count_df = (count_df-count_df.mean())/(count_df.std()+0.1)"
   ]
  },
  {
   "cell_type": "code",
   "execution_count": 4,
   "id": "791383e7",
   "metadata": {},
   "outputs": [],
   "source": [
    "feat_arr = nodes_df.merge(count_df, how='left', left_on='paper_id', right_index=True)[['cite1','cite2']].values\n",
    "feat_arr[np.isnan(feat_arr)] = -1\n",
    "# 使用Numpy保存特征为.npy格式，以节省存储空间和提高读写速度\n",
    "with open(os.path.join(base_path, publish_path, './count_features.npy'), 'wb') as f:\n",
    "    np.save(f, feat_arr)"
   ]
  },
  {
   "cell_type": "code",
   "execution_count": 2,
   "id": "4b150c66",
   "metadata": {},
   "outputs": [],
   "source": [
    "cite1_df = edges_df.groupby('paper_id').count()['reference_paper_id']\n",
    "cite2_df = edges_df.groupby('reference_paper_id').count()['paper_id']\n",
    "count_df = pd.merge(cite1_df, cite2_df, how='outer', left_index=True, right_index=True)\n",
    "count_df.fillna(0, inplace=True)\n",
    "count_df.columns=['cite1', 'cite2']"
   ]
  },
  {
   "cell_type": "code",
   "execution_count": 6,
   "id": "2a974380",
   "metadata": {},
   "outputs": [
    {
     "data": {
      "text/plain": [
       "<AxesSubplot:>"
      ]
     },
     "execution_count": 6,
     "metadata": {},
     "output_type": "execute_result"
    },
    {
     "data": {
      "image/png": "[encoded data removed]",
      "text/plain": [
       "<Figure size 432x288 with 1 Axes>"
      ]
     },
     "metadata": {
      "needs_background": "light"
     },
     "output_type": "display_data"
    }
   ],
   "source": [
    "import matplotlib.pyplot as plt\n",
    "%matplotlib inline\n",
    "count_df['cite1'].hist(bins=100)\n",
    "\n"
   ]
  },
  {
   "cell_type": "code",
   "execution_count": 7,
   "id": "9c377d2f",
   "metadata": {},
   "outputs": [
    {
     "data": {
      "text/plain": [
       "9102.0"
      ]
     },
     "execution_count": 7,
     "metadata": {},
     "output_type": "execute_result"
    }
   ],
   "source": [
    "max(count_df['cite1'])"
   ]
  },
  {
   "cell_type": "code",
   "execution_count": 5,
   "id": "a2b71b88",
   "metadata": {},
   "outputs": [
    {
     "data": {
      "text/plain": [
       "<AxesSubplot:>"
      ]
     },
     "execution_count": 5,
     "metadata": {},
     "output_type": "execute_result"
    },
    {
     "data": {
      "image/png": "[encoded data removed]",
      "text/plain": [
       "<Figure size 432x288 with 1 Axes>"
      ]
     },
     "metadata": {
      "needs_background": "light"
     },
     "output_type": "display_data"
    }
   ],
   "source": [
    "count_df['cite2'].hist(bins=20)"
   ]
  },
  {
   "cell_type": "code",
   "execution_count": 8,
   "id": "90298720",
   "metadata": {},
   "outputs": [
    {
     "data": {
      "text/plain": [
       "15981.0"
      ]
     },
     "execution_count": 8,
     "metadata": {},
     "output_type": "execute_result"
    }
   ],
   "source": [
    "max(count_df['cite2'])"
   ]
  },
  {
   "cell_type": "code",
   "execution_count": 9,
   "id": "35605d8d",
   "metadata": {},
   "outputs": [
    {
     "data": {
      "text/html": [
       "<div>\n",
       "<style scoped>\n",
       "    .dataframe tbody tr th:only-of-type {\n",
       "        vertical-align: middle;\n",
       "    }\n",
       "\n",
       "    .dataframe tbody tr th {\n",
       "        vertical-align: top;\n",
       "    }\n",
       "\n",
       "    .dataframe thead th {\n",
       "        text-align: right;\n",
       "    }\n",
       "</style>\n",
       "<table border=\"1\" class=\"dataframe\">\n",
       "  <thead>\n",
       "    <tr style=\"text-align: right;\">\n",
       "      <th></th>\n",
       "      <th>cite1</th>\n",
       "      <th>cite2</th>\n",
       "    </tr>\n",
       "  </thead>\n",
       "  <tbody>\n",
       "    <tr>\n",
       "      <th>count</th>\n",
       "      <td>3.031367e+06</td>\n",
       "      <td>3.031367e+06</td>\n",
       "    </tr>\n",
       "    <tr>\n",
       "      <th>mean</th>\n",
       "      <td>9.622276e+00</td>\n",
       "      <td>9.622276e+00</td>\n",
       "    </tr>\n",
       "    <tr>\n",
       "      <th>std</th>\n",
       "      <td>1.152019e+01</td>\n",
       "      <td>4.937654e+01</td>\n",
       "    </tr>\n",
       "    <tr>\n",
       "      <th>min</th>\n",
       "      <td>0.000000e+00</td>\n",
       "      <td>0.000000e+00</td>\n",
       "    </tr>\n",
       "    <tr>\n",
       "      <th>25%</th>\n",
       "      <td>3.000000e+00</td>\n",
       "      <td>0.000000e+00</td>\n",
       "    </tr>\n",
       "    <tr>\n",
       "      <th>50%</th>\n",
       "      <td>7.000000e+00</td>\n",
       "      <td>2.000000e+00</td>\n",
       "    </tr>\n",
       "    <tr>\n",
       "      <th>75%</th>\n",
       "      <td>1.300000e+01</td>\n",
       "      <td>7.000000e+00</td>\n",
       "    </tr>\n",
       "    <tr>\n",
       "      <th>max</th>\n",
       "      <td>9.102000e+03</td>\n",
       "      <td>1.598100e+04</td>\n",
       "    </tr>\n",
       "  </tbody>\n",
       "</table>\n",
       "</div>"
      ],
      "text/plain": [
       "              cite1         cite2\n",
       "count  3.031367e+06  3.031367e+06\n",
       "mean   9.622276e+00  9.622276e+00\n",
       "std    1.152019e+01  4.937654e+01\n",
       "min    0.000000e+00  0.000000e+00\n",
       "25%    3.000000e+00  0.000000e+00\n",
       "50%    7.000000e+00  2.000000e+00\n",
       "75%    1.300000e+01  7.000000e+00\n",
       "max    9.102000e+03  1.598100e+04"
      ]
     },
     "execution_count": 9,
     "metadata": {},
     "output_type": "execute_result"
    }
   ],
   "source": [
    "count_df.describe()"
   ]
  },
  {
   "cell_type": "code",
   "execution_count": 1,
   "id": "25eb2b25",
   "metadata": {},
   "outputs": [
    {
     "ename": "NameError",
     "evalue": "name 'np' is not defined",
     "output_type": "error",
     "traceback": [
      "\u001b[0;31m---------------------------------------------------------------------------\u001b[0m",
      "\u001b[0;31mNameError\u001b[0m                                 Traceback (most recent call last)",
      "\u001b[0;32m<ipython-input-1-58c69d6a50e8>\u001b[0m in \u001b[0;36m<module>\u001b[0;34m\u001b[0m\n\u001b[0;32m----> 1\u001b[0;31m \u001b[0mnp\u001b[0m\u001b[0;34m.\u001b[0m\u001b[0mzeros\u001b[0m\u001b[0;34m(\u001b[0m\u001b[0;34m(\u001b[0m\u001b[0;36m3\u001b[0m\u001b[0;34m,\u001b[0m\u001b[0;36m3\u001b[0m\u001b[0;34m)\u001b[0m\u001b[0;34m)\u001b[0m\u001b[0;34m\u001b[0m\u001b[0m\n\u001b[0m",
      "\u001b[0;31mNameError\u001b[0m: name 'np' is not defined"
     ]
    }
   ],
   "source": [
    "np.zeros((3,3))"
   ]
  },
  {
   "cell_type": "code",
   "execution_count": null,
   "id": "62260c05",
   "metadata": {},
   "outputs": [],
   "source": []
  }
 ],
 "metadata": {
  "kernelspec": {
   "display_name": "Python 3",
   "language": "python",
   "name": "python3"
  },
  "language_info": {
   "codemirror_mode": {
    "name": "ipython",
    "version": 3
   },
   "file_extension": ".py",
   "mimetype": "text/x-python",
   "name": "python",
   "nbconvert_exporter": "python",
   "pygments_lexer": "ipython3",
   "version": "3.6.6"
  }
 },
 "nbformat": 4,
 "nbformat_minor": 5
}
